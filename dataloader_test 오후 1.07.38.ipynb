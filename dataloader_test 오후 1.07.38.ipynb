{
 "cells": [
  {
   "cell_type": "code",
   "execution_count": 1,
   "id": "3073e2f6-243f-4067-9b26-967eb5da99c8",
   "metadata": {},
   "outputs": [],
   "source": [
    "import pandas as pd\n",
    "\n",
    "df = pd.read_csv('data.csv')"
   ]
  },
  {
   "cell_type": "code",
   "execution_count": 2,
   "id": "acf8312c-c548-441f-9a53-5b829f233b28",
   "metadata": {},
   "outputs": [],
   "source": [
    "import torch\n",
    "from torch.utils.data import Dataset, DataLoader\n",
    "from torch.nn.utils.rnn import pad_sequence"
   ]
  },
  {
   "cell_type": "code",
   "execution_count": 28,
   "id": "95ff1bcf-e440-40d3-ba57-c1f4b1c8c48a",
   "metadata": {},
   "outputs": [],
   "source": [
    "class KTDataset(Dataset):\n",
    "    def __init__(self, features, questions, answers, seq_len):\n",
    "        super(KTDataset, self).__init__()\n",
    "        self.features = features\n",
    "        self.questions = questions\n",
    "        self.answers = answers\n",
    "        self.max_length = seq_len\n",
    "\n",
    "        # Flatten and split long sequences\n",
    "        self.data = []\n",
    "        for feat, qst, ans in zip(features, questions, answers):\n",
    "            for i in range(0, len(feat), self.max_length):\n",
    "                self.data.append((\n",
    "                    feat[i:i+self.max_length],\n",
    "                    qst[i:i+self.max_length],\n",
    "                    ans[i:i+self.max_length]\n",
    "                ))\n",
    "\n",
    "    def __getitem__(self, index):\n",
    "        return self.data[index]\n",
    "\n",
    "    def __len__(self):\n",
    "        return len(self.data)\n",
    "\n",
    "\n",
    "problem_ids = [torch.tensor(u_df[\"problem\"].values, dtype=torch.long)\n",
    "            for _, u_df in df.groupby(\"user_id\")]\n",
    "interaction_ids = [torch.tensor(u_df[\"problem_with_answer\"].values, dtype=torch.long)\n",
    "             for _, u_df in df.groupby(\"user_id\")]\n",
    "answer = [torch.tensor(u_df[\"correct\"].values, dtype=torch.long)\n",
    "          for _, u_df in df.groupby(\"user_id\")]\n",
    "\n",
    "interaction_ids = [torch.cat((torch.zeros(1, dtype=torch.long), s))[:-1] for s in interaction_ids]\n",
    "\n",
    "\n",
    "kt_dataset = KTDataset(problem_ids, interaction_ids, answer, 200)\n",
    "    \n",
    "def pad_collate(batch):\n",
    "    (problem_ids, interaction_ids, answer) = zip(*batch)\n",
    "    problem_ids = pad_sequence(problem_ids, batch_first=True, padding_value= 0)\n",
    "    interaction_ids = pad_sequence(interaction_ids, batch_first=True, padding_value=0)\n",
    "    answer = pad_sequence(answer, batch_first=True, padding_value=-1)\n",
    "    return problem_ids, interaction_ids, answer\n",
    "    \n",
    "# Get the total size of the dataset after splitting sequences\n",
    "total_size = len(kt_dataset)\n",
    "\n",
    "train_ratio = 0.7\n",
    "val_ratio = 0.2\n",
    "\n",
    "# Calculate the sizes for train, validation, and test splits\n",
    "train_size = int(train_ratio * total_size)\n",
    "val_size = int(val_ratio * total_size)\n",
    "test_size = total_size - (train_size + val_size)  # Ensure the sizes sum up to total_size\n",
    "\n",
    "train_dataset, val_dataset, test_dataset = torch.utils.data.random_split(kt_dataset, [train_size, val_size, test_size])\n",
    "\n",
    "train_data_loader = DataLoader(train_dataset, batch_size = 128, shuffle = True, collate_fn=pad_collate)\n",
    "val_data_loader = DataLoader(val_dataset, batch_size = 128, shuffle = False, collate_fn=pad_collate)\n",
    "test_data_loader = DataLoader(test_dataset, batch_size = 128, shuffle = False, collate_fn=pad_collate)\n"
   ]
  },
  {
   "cell_type": "code",
   "execution_count": 39,
   "id": "854cbdb9-690e-42f2-9494-92bc8458bcb4",
   "metadata": {},
   "outputs": [
    {
     "data": {
      "text/plain": [
       "5431"
      ]
     },
     "execution_count": 39,
     "metadata": {},
     "output_type": "execute_result"
    }
   ],
   "source": [
    "len(kt_dataset)"
   ]
  },
  {
   "cell_type": "code",
   "execution_count": 40,
   "id": "a3b65a03-fcc0-47cb-92c7-a83ed4ec6eac",
   "metadata": {},
   "outputs": [
    {
     "data": {
      "text/plain": [
       "4047"
      ]
     },
     "execution_count": 40,
     "metadata": {},
     "output_type": "execute_result"
    }
   ],
   "source": [
    "len(problem_ids)"
   ]
  },
  {
   "cell_type": "code",
   "execution_count": 41,
   "id": "9ca05516-2993-4187-86e0-5138a92b01d2",
   "metadata": {},
   "outputs": [
    {
     "data": {
      "text/plain": [
       "tensor([12668, 12692, 12685, 12704, 12705, 12700, 12708,  2993,  3182,  2977,\n",
       "         3173,  3168, 12032, 11732, 11712, 11715, 12242, 12231, 12213, 12668,\n",
       "        12692, 12685, 12704, 12705, 12700, 12708,  3182,  3173,  3168, 12708,\n",
       "         2993,  3182,  2977,  3173,  3168, 12668, 12692, 12685, 12704, 12705,\n",
       "        12700, 12708,  3168,  2993,  2977])"
      ]
     },
     "execution_count": 41,
     "metadata": {},
     "output_type": "execute_result"
    }
   ],
   "source": [
    "problem_ids[0]"
   ]
  },
  {
   "cell_type": "code",
   "execution_count": 42,
   "id": "bfcbb400-1d93-41db-a56d-5842b6af9e43",
   "metadata": {},
   "outputs": [
    {
     "data": {
      "text/plain": [
       "tensor([  530,   540,   538,   549,  2801,  2811,  2765,   530,   540,   538,\n",
       "          549,  2801,  2811,  2765, 11354, 11371, 11323, 11350, 11372, 11163,\n",
       "        11134, 11104, 11207, 11159])"
      ]
     },
     "execution_count": 42,
     "metadata": {},
     "output_type": "execute_result"
    }
   ],
   "source": [
    "problem_ids[1]"
   ]
  },
  {
   "cell_type": "code",
   "execution_count": 43,
   "id": "a2a5d63e-5a82-4008-961f-75d1651eb59b",
   "metadata": {},
   "outputs": [
    {
     "data": {
      "text/plain": [
       "tensor([    0, 12668, 30440, 12685, 12704, 12705, 12700, 12708,  2993, 20930,\n",
       "         2977, 20921,  3168, 12032, 11732, 11712, 11715, 29990, 29979, 29961,\n",
       "        12668, 30440, 12685, 12704, 12705, 12700, 12708, 20930, 20921,  3168,\n",
       "        12708,  2993, 20930,  2977, 20921,  3168, 12668, 30440, 12685, 12704,\n",
       "        12705, 12700, 12708,  3168,  2993])"
      ]
     },
     "execution_count": 43,
     "metadata": {},
     "output_type": "execute_result"
    }
   ],
   "source": [
    "interaction_ids[0]"
   ]
  },
  {
   "cell_type": "code",
   "execution_count": 44,
   "id": "9a0bdeb6-2b50-435b-ba3d-157590b236ae",
   "metadata": {},
   "outputs": [
    {
     "data": {
      "text/plain": [
       "tensor([    0,   530, 18288, 18286, 18297,  2801, 20559,  2765,   530, 18288,\n",
       "        18286, 18297,  2801, 20559,  2765, 29102, 29119, 29071, 29098, 29120,\n",
       "        28911, 28882, 28852, 28955])"
      ]
     },
     "execution_count": 44,
     "metadata": {},
     "output_type": "execute_result"
    }
   ],
   "source": [
    "interaction_ids[1]"
   ]
  },
  {
   "cell_type": "code",
   "execution_count": 51,
   "id": "9759150f-5ba7-466d-b2de-efa7d60ac75f",
   "metadata": {},
   "outputs": [
    {
     "data": {
      "text/plain": [
       "3801"
      ]
     },
     "execution_count": 51,
     "metadata": {},
     "output_type": "execute_result"
    }
   ],
   "source": [
    "len(train_dataset)"
   ]
  },
  {
   "cell_type": "code",
   "execution_count": 52,
   "id": "98755d2f-e16a-4668-af2f-24e77b4e51ae",
   "metadata": {},
   "outputs": [
    {
     "data": {
      "text/plain": [
       "544"
      ]
     },
     "execution_count": 52,
     "metadata": {},
     "output_type": "execute_result"
    }
   ],
   "source": [
    "len(test_dataset)"
   ]
  },
  {
   "cell_type": "code",
   "execution_count": 53,
   "id": "36f08bcc-d8cc-4adb-a0f0-3882a2322f1b",
   "metadata": {},
   "outputs": [
    {
     "data": {
      "text/plain": [
       "1086"
      ]
     },
     "execution_count": 53,
     "metadata": {},
     "output_type": "execute_result"
    }
   ],
   "source": [
    "len(val_dataset)"
   ]
  },
  {
   "cell_type": "code",
   "execution_count": null,
   "id": "4c8780a0-6d0a-475d-a46a-2880e218d3a4",
   "metadata": {
    "scrolled": true
   },
   "outputs": [],
   "source": [
    "for batch in train_data_loader:\n",
    "    problem_id, interaction_id, answer = batch\n",
    "    print('problem_shape', problem_id.shape)"
   ]
  }
 ],
 "metadata": {
  "kernelspec": {
   "display_name": "Python 3 (ipykernel)",
   "language": "python",
   "name": "python3"
  },
  "language_info": {
   "codemirror_mode": {
    "name": "ipython",
    "version": 3
   },
   "file_extension": ".py",
   "mimetype": "text/x-python",
   "name": "python",
   "nbconvert_exporter": "python",
   "pygments_lexer": "ipython3",
   "version": "3.10.14"
  }
 },
 "nbformat": 4,
 "nbformat_minor": 5
}
